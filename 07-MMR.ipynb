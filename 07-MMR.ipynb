{
  "nbformat": 4,
  "nbformat_minor": 0,
  "metadata": {
    "colab": {
      "provenance": [],
      "authorship_tag": "ABX9TyMl+nLtds5xsd9z2Swg0s0n",
      "include_colab_link": true
    },
    "kernelspec": {
      "name": "python3",
      "display_name": "Python 3"
    },
    "language_info": {
      "name": "python"
    }
  },
  "cells": [
    {
      "cell_type": "markdown",
      "metadata": {
        "id": "view-in-github",
        "colab_type": "text"
      },
      "source": [
        "<a href=\"https://colab.research.google.com/github/JSJeong-me/Retriever/blob/main/07-MMR.ipynb\" target=\"_parent\"><img src=\"https://colab.research.google.com/assets/colab-badge.svg\" alt=\"Open In Colab\"/></a>"
      ]
    },
    {
      "cell_type": "markdown",
      "source": [
        "### https://community.fullstackretrieval.com/retrieval-methods/maximum-marginal-relevance-mmr"
      ],
      "metadata": {
        "id": "dzfUJzhqXn-r"
      }
    },
    {
      "cell_type": "code",
      "execution_count": null,
      "metadata": {
        "id": "f49K4tHMWTT5"
      },
      "outputs": [],
      "source": [
        "!pip install openai\n",
        "!pip install python-dotenv\n",
        "!pip install langchain"
      ]
    },
    {
      "cell_type": "code",
      "source": [
        "!pip install pypdf"
      ],
      "metadata": {
        "colab": {
          "base_uri": "https://localhost:8080/"
        },
        "id": "uEq6sbULXtM2",
        "outputId": "c9c60066-18ed-4243-d758-764b26189b9d"
      },
      "execution_count": 2,
      "outputs": [
        {
          "output_type": "stream",
          "name": "stdout",
          "text": [
            "Collecting pypdf\n",
            "  Downloading pypdf-3.17.4-py3-none-any.whl (278 kB)\n",
            "\u001b[?25l     \u001b[90m━━━━━━━━━━━━━━━━━━━━━━━━━━━━━━━━━━━━━━━━\u001b[0m \u001b[32m0.0/278.2 kB\u001b[0m \u001b[31m?\u001b[0m eta \u001b[36m-:--:--\u001b[0m\r\u001b[2K     \u001b[91m━━━━━━━━━━━━━━━━━━━━━━━━━━━━━━━━━━━━━━━\u001b[0m\u001b[91m╸\u001b[0m \u001b[32m276.5/278.2 kB\u001b[0m \u001b[31m9.3 MB/s\u001b[0m eta \u001b[36m0:00:01\u001b[0m\r\u001b[2K     \u001b[90m━━━━━━━━━━━━━━━━━━━━━━━━━━━━━━━━━━━━━━━━\u001b[0m \u001b[32m278.2/278.2 kB\u001b[0m \u001b[31m7.5 MB/s\u001b[0m eta \u001b[36m0:00:00\u001b[0m\n",
            "\u001b[?25hInstalling collected packages: pypdf\n",
            "Successfully installed pypdf-3.17.4\n"
          ]
        }
      ]
    },
    {
      "cell_type": "code",
      "source": [
        "!echo \"OPENAI_API_KEY=sk-\" >> .env\n",
        "!source /content/.env\n",
        "\n",
        "import os\n",
        "from dotenv import load_dotenv\n",
        "\n",
        "# Load environment variables from .env file\n",
        "load_dotenv()\n",
        "# Access the API key using the variable name defined in the .env file\n",
        "api_key = os.getenv(\"OPENAI_API_KEY\")"
      ],
      "metadata": {
        "id": "uIW5IGlgWYkC"
      },
      "execution_count": 3,
      "outputs": []
    },
    {
      "cell_type": "code",
      "source": [
        "from langchain.document_loaders import DirectoryLoader\n",
        "from langchain.embeddings.openai import OpenAIEmbeddings\n",
        "from langchain.text_splitter import RecursiveCharacterTextSplitter\n",
        "from langchain.vectorstores import Chroma\n",
        "from langchain.document_loaders import WebBaseLoader"
      ],
      "metadata": {
        "id": "-7IrrhKfcAyt"
      },
      "execution_count": 5,
      "outputs": []
    },
    {
      "cell_type": "code",
      "source": [
        "# Loading a single website\n",
        "loader = WebBaseLoader(\"http://www.paulgraham.com/wealth.html\")\n",
        "docs = loader.load()\n",
        "\n",
        "# Split your website into big chunks\n",
        "text_splitter = RecursiveCharacterTextSplitter(chunk_size=2000, chunk_overlap=0)\n",
        "chunks = text_splitter.split_documents(docs)\n",
        "\n",
        "print (f\"Your {len(docs)} documents have been split into {len(chunks)} chunks\")"
      ],
      "metadata": {
        "colab": {
          "base_uri": "https://localhost:8080/"
        },
        "id": "54F4lemvhbX-",
        "outputId": "daf89fee-5906-4801-c087-9db2b87be86d"
      },
      "execution_count": 6,
      "outputs": [
        {
          "output_type": "stream",
          "name": "stdout",
          "text": [
            "Your 1 documents have been split into 28 chunks\n"
          ]
        }
      ]
    },
    {
      "cell_type": "code",
      "source": [
        "!pip install chromadb\n",
        "!pip install tiktoken"
      ],
      "metadata": {
        "id": "eOaFN6X6hkGl"
      },
      "execution_count": null,
      "outputs": []
    },
    {
      "cell_type": "code",
      "source": [
        "embedding = OpenAIEmbeddings()\n",
        "vectordb = Chroma.from_documents(documents=chunks, embedding=embedding)"
      ],
      "metadata": {
        "id": "OQFnhKdNhiHl"
      },
      "execution_count": 9,
      "outputs": []
    },
    {
      "cell_type": "code",
      "source": [
        "retriever_vanilla = vectordb.as_retriever(search_type=\"similarity\", search_kwargs={\"k\": 8})\n",
        "\n",
        "retriever_mmr = vectordb.as_retriever(search_type=\"mmr\", search_kwargs={\"k\": 8})"
      ],
      "metadata": {
        "id": "c0NB7Cwih1Ga"
      },
      "execution_count": 10,
      "outputs": []
    },
    {
      "cell_type": "markdown",
      "source": [
        "### Vanilla - Regular Top K Similarity Search\n",
        "MMR - Do a MMR search"
      ],
      "metadata": {
        "id": "lqtv6rCYiNwA"
      }
    },
    {
      "cell_type": "code",
      "source": [
        "vanilla_relevant_docs = retriever_vanilla.get_relevant_documents(\"What is the best way to make and keep wealth?\")"
      ],
      "metadata": {
        "id": "_U7ddx9zh68w"
      },
      "execution_count": 11,
      "outputs": []
    },
    {
      "cell_type": "code",
      "source": [
        "mmr_relevant_docs = retriever_mmr.get_relevant_documents(\"What is the best way to make and keep wealth?\")"
      ],
      "metadata": {
        "id": "7StCgMYGh8y7"
      },
      "execution_count": 12,
      "outputs": []
    },
    {
      "cell_type": "code",
      "source": [
        "def analyze_list_overlap(list1, list2, content_attr='page_content'):\n",
        "    \"\"\"\n",
        "    Analyze the overlap and uniqueness between two lists of objects using a specified content attribute.\n",
        "\n",
        "    Parameters:\n",
        "    list1 (list): The first list of objects to compare.\n",
        "    list2 (list): The second list of objects to compare.\n",
        "    content_attr (str): The attribute name of the content to use for comparison.\n",
        "\n",
        "    Returns:\n",
        "    dict: A dictionary with counts of overlapping, unique to list1, unique to list2 items,\n",
        "          and total counts for each list.\n",
        "    \"\"\"\n",
        "    # Extract unique content attributes from the lists\n",
        "    set1_contents = {getattr(doc, content_attr) for doc in list1}\n",
        "    set2_contents = {getattr(doc, content_attr) for doc in list2}\n",
        "\n",
        "    # Find the number of overlapping content attributes\n",
        "    overlap_contents = set1_contents & set2_contents\n",
        "    overlap_count = len(overlap_contents)\n",
        "\n",
        "    # Find the unique content attributes in each list\n",
        "    unique_to_list1_contents = set1_contents - set2_contents\n",
        "    unique_to_list2_contents = set2_contents - set1_contents\n",
        "    unique_to_list1_count = len(unique_to_list1_contents)\n",
        "    unique_to_list2_count = len(unique_to_list2_contents)\n",
        "\n",
        "    # Use the unique content attributes to retrieve the unique objects\n",
        "    unique_to_list1 = [doc for doc in list1 if getattr(doc, content_attr) in unique_to_list1_contents]\n",
        "    unique_to_list2 = [doc for doc in list2 if getattr(doc, content_attr) in unique_to_list2_contents]\n",
        "\n",
        "    # Count the total number of items in each list\n",
        "    total_list1 = len(list1)\n",
        "    total_list2 = len(list2)\n",
        "\n",
        "    # Return the results in a dictionary\n",
        "    return {\n",
        "        'total_list1': total_list1,\n",
        "        'total_list2': total_list2,\n",
        "        'overlap_count': overlap_count,\n",
        "        'unique_to_list1_count': unique_to_list1_count,\n",
        "        'unique_to_list2_count': unique_to_list2_count,\n",
        "    }"
      ],
      "metadata": {
        "id": "e94yj2_GiDwM"
      },
      "execution_count": 13,
      "outputs": []
    },
    {
      "cell_type": "code",
      "source": [
        "analyze_list_overlap(vanilla_relevant_docs, mmr_relevant_docs)"
      ],
      "metadata": {
        "colab": {
          "base_uri": "https://localhost:8080/"
        },
        "id": "lbvp0U_miFE_",
        "outputId": "6522b2b4-86d1-4e1c-d993-ffaf5f93491e"
      },
      "execution_count": 14,
      "outputs": [
        {
          "output_type": "execute_result",
          "data": {
            "text/plain": [
              "{'total_list1': 8,\n",
              " 'total_list2': 8,\n",
              " 'overlap_count': 6,\n",
              " 'unique_to_list1_count': 2,\n",
              " 'unique_to_list2_count': 2}"
            ]
          },
          "metadata": {},
          "execution_count": 14
        }
      ]
    }
  ]
}